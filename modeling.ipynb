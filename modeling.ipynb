{
 "cells": [
  {
   "cell_type": "markdown",
   "id": "ba0cb15d",
   "metadata": {},
   "source": [
    "<div style=\"background-color:#121212; border-left: 5px solid #00bfbf; padding: 1.5em; font-family: 'Segoe UI', sans-serif; color: #e0e0e0; line-height:1.7;\">\n",
    "\n",
    "<h2 style=\"color:#00e6e6;\">🧠 Plastic Surgery Abstracts: Topic Modeling & Trend Analysis</h2>\n",
    "\n",
    "<p><strong style=\"color:#fff;\">📍 Objective:</strong><br>\n",
    "To apply advanced <strong style=\"color:#ffffff;\">Natural Language Processing (NLP)</strong> techniques — specifically <strong style=\"color:#ffffff;\">BERTopic</strong> — to a curated dataset of plastic surgery abstracts. This project aims to <strong style=\"color:#ffffff;\">discover latent research themes</strong>, visualize their <strong style=\"color:#ffffff;\">evolution over time</strong>, and generate reproducible insights for clinical and academic interpretation.</p>\n",
    "\n",
    "<hr style=\"border:none; border-top: 1px dashed #666;\">\n",
    "\n",
    "<h3 style=\"color:#ffffff;\">🎯 Project Goals:</h3>\n",
    "<ul>\n",
    "  <li><strong>🧩 Theme Discovery:</strong> Identify core topics from ~5,000 abstracts using clustering techniques.</li>\n",
    "  <li><strong>🔑 Keyword Extraction:</strong> Use <code style=\"color:#111;background:#fff;padding:1px 4px;border-radius:3px;\">c-TF-IDF</code> to surface meaningful and distinct terms for each topic.</li>\n",
    "  <li><strong>📈 Trend Analysis:</strong> Track how topics emerge, decline, or dominate over the years.</li>\n",
    "  <li><strong>🧭 Topic Relationships:</strong> Visualize topic similarity using UMAP and hierarchical dendrograms.</li>\n",
    "  <li><strong>📦 Deliverables:</strong> Export reproducible models (.pkl), clean code, and publication-ready visuals.</li>\n",
    "</ul>\n",
    "\n",
    "<p style=\"font-size:0.95em; color:#aaa;\">\n",
    "<em>Note:</em> A rigorous preprocessing pipeline was applied including section header stripping, lemmatization, and medical-domain stopword removal to enhance topic coherence and signal clarity.\n",
    "</p>\n",
    "</div>"
   ]
  },
  {
   "cell_type": "code",
   "execution_count": 4,
   "id": "d408cb57",
   "metadata": {},
   "outputs": [],
   "source": [
    "import pandas as pd\n",
    "import numpy as np\n",
    "import nltk\n",
    "import os\n",
    "import spacy\n",
    "import re  # from regex\n",
    "import matplotlib.pyplot as plt\n",
    "import seaborn as sns\n",
    "from sklearn import datasets  # example module from scikit-learn\n",
    "from umap import UMAP\n",
    "import hdbscan\n",
    "from bertopic import BERTopic\n",
    "from bertopic.representation import MaximalMarginalRelevance\n",
    "from transformers import pipeline\n",
    "import nltk\n",
    "from nltk.corpus import wordnet\n",
    "from nltk.stem import WordNetLemmatizer\n",
    "from nltk import word_tokenize, pos_tag"
   ]
  },
  {
   "cell_type": "code",
   "execution_count": 3,
   "id": "23a6eb66",
   "metadata": {},
   "outputs": [],
   "source": [
    "df = pd.read_csv('E:\\dataScience\\Fiver orders\\Order 3 Betopic modeling Plastic surgery\\data\\data\\merged_abstracts.csv',encoding='latin1')"
   ]
  },
  {
   "cell_type": "code",
   "execution_count": 4,
   "id": "421dc63f",
   "metadata": {},
   "outputs": [
    {
     "data": {
      "text/html": [
       "<div>\n",
       "<style scoped>\n",
       "    .dataframe tbody tr th:only-of-type {\n",
       "        vertical-align: middle;\n",
       "    }\n",
       "\n",
       "    .dataframe tbody tr th {\n",
       "        vertical-align: top;\n",
       "    }\n",
       "\n",
       "    .dataframe thead th {\n",
       "        text-align: right;\n",
       "    }\n",
       "</style>\n",
       "<table border=\"1\" class=\"dataframe\">\n",
       "  <thead>\n",
       "    <tr style=\"text-align: right;\">\n",
       "      <th></th>\n",
       "      <th>year</th>\n",
       "      <th>abstract</th>\n",
       "      <th>Unnamed: 2</th>\n",
       "      <th>Unnamed: 3</th>\n",
       "    </tr>\n",
       "  </thead>\n",
       "  <tbody>\n",
       "    <tr>\n",
       "      <th>0</th>\n",
       "      <td>2014</td>\n",
       "      <td>BACKGROUND and PURPOSE: Teenagers with severe ...</td>\n",
       "      <td>NaN</td>\n",
       "      <td>NaN</td>\n",
       "    </tr>\n",
       "    <tr>\n",
       "      <th>1</th>\n",
       "      <td>2014</td>\n",
       "      <td>BACKGROUND: 160,000 hip and knee replacements ...</td>\n",
       "      <td>NaN</td>\n",
       "      <td>NaN</td>\n",
       "    </tr>\n",
       "    <tr>\n",
       "      <th>2</th>\n",
       "      <td>2014</td>\n",
       "      <td>BACKGROUND: 3,800 patients are diagnosed with ...</td>\n",
       "      <td>NaN</td>\n",
       "      <td>NaN</td>\n",
       "    </tr>\n",
       "    <tr>\n",
       "      <th>3</th>\n",
       "      <td>2014</td>\n",
       "      <td>BACKGROUND: 350,000 ventral hernia repairs (VH...</td>\n",
       "      <td>NaN</td>\n",
       "      <td>NaN</td>\n",
       "    </tr>\n",
       "    <tr>\n",
       "      <th>4</th>\n",
       "      <td>2014</td>\n",
       "      <td>BACKGROUND: A challenge to education is offeri...</td>\n",
       "      <td>NaN</td>\n",
       "      <td>NaN</td>\n",
       "    </tr>\n",
       "    <tr>\n",
       "      <th>...</th>\n",
       "      <td>...</td>\n",
       "      <td>...</td>\n",
       "      <td>...</td>\n",
       "      <td>...</td>\n",
       "    </tr>\n",
       "    <tr>\n",
       "      <th>4862</th>\n",
       "      <td>2023</td>\n",
       "      <td>The Potential of Amniotic Membrane Derived Pro...</td>\n",
       "      <td>NaN</td>\n",
       "      <td>NaN</td>\n",
       "    </tr>\n",
       "    <tr>\n",
       "      <th>4863</th>\n",
       "      <td>2023</td>\n",
       "      <td>Use of Ultrasound in the Diagnosis of Craniosy...</td>\n",
       "      <td>NaN</td>\n",
       "      <td>NaN</td>\n",
       "    </tr>\n",
       "    <tr>\n",
       "      <th>4864</th>\n",
       "      <td>2023</td>\n",
       "      <td>Utility of AI tools to Detect Pain Through Fac...</td>\n",
       "      <td>NaN</td>\n",
       "      <td>NaN</td>\n",
       "    </tr>\n",
       "    <tr>\n",
       "      <th>4865</th>\n",
       "      <td>2023</td>\n",
       "      <td>Ventral Hernia Repair in Complex Patients: The...</td>\n",
       "      <td>NaN</td>\n",
       "      <td>NaN</td>\n",
       "    </tr>\n",
       "    <tr>\n",
       "      <th>4866</th>\n",
       "      <td>2023</td>\n",
       "      <td>What Do Patients Look for When Scheduling Thei...</td>\n",
       "      <td>NaN</td>\n",
       "      <td>NaN</td>\n",
       "    </tr>\n",
       "  </tbody>\n",
       "</table>\n",
       "<p>4867 rows × 4 columns</p>\n",
       "</div>"
      ],
      "text/plain": [
       "      year                                           abstract  Unnamed: 2  \\\n",
       "0     2014  BACKGROUND and PURPOSE: Teenagers with severe ...         NaN   \n",
       "1     2014  BACKGROUND: 160,000 hip and knee replacements ...         NaN   \n",
       "2     2014  BACKGROUND: 3,800 patients are diagnosed with ...         NaN   \n",
       "3     2014  BACKGROUND: 350,000 ventral hernia repairs (VH...         NaN   \n",
       "4     2014  BACKGROUND: A challenge to education is offeri...         NaN   \n",
       "...    ...                                                ...         ...   \n",
       "4862  2023  The Potential of Amniotic Membrane Derived Pro...         NaN   \n",
       "4863  2023  Use of Ultrasound in the Diagnosis of Craniosy...         NaN   \n",
       "4864  2023  Utility of AI tools to Detect Pain Through Fac...         NaN   \n",
       "4865  2023  Ventral Hernia Repair in Complex Patients: The...         NaN   \n",
       "4866  2023  What Do Patients Look for When Scheduling Thei...         NaN   \n",
       "\n",
       "      Unnamed: 3  \n",
       "0            NaN  \n",
       "1            NaN  \n",
       "2            NaN  \n",
       "3            NaN  \n",
       "4            NaN  \n",
       "...          ...  \n",
       "4862         NaN  \n",
       "4863         NaN  \n",
       "4864         NaN  \n",
       "4865         NaN  \n",
       "4866         NaN  \n",
       "\n",
       "[4867 rows x 4 columns]"
      ]
     },
     "execution_count": 4,
     "metadata": {},
     "output_type": "execute_result"
    }
   ],
   "source": [
    "df"
   ]
  },
  {
   "cell_type": "code",
   "execution_count": 267,
   "id": "86fc6469",
   "metadata": {},
   "outputs": [
    {
     "data": {
      "text/plain": [
       "year\n",
       "2023    907\n",
       "2022    895\n",
       "2021    735\n",
       "2019    594\n",
       "2016    366\n",
       "2018    349\n",
       "2017    326\n",
       "2014    242\n",
       "2015    238\n",
       "2020    215\n",
       "Name: count, dtype: int64"
      ]
     },
     "execution_count": 267,
     "metadata": {},
     "output_type": "execute_result"
    }
   ],
   "source": [
    "df['year'].value_counts()"
   ]
  },
  {
   "cell_type": "code",
   "execution_count": 233,
   "id": "482b02be",
   "metadata": {},
   "outputs": [
    {
     "name": "stdout",
     "output_type": "stream",
     "text": [
      "<class 'pandas.core.frame.DataFrame'>\n",
      "RangeIndex: 4867 entries, 0 to 4866\n",
      "Data columns (total 4 columns):\n",
      " #   Column      Non-Null Count  Dtype  \n",
      "---  ------      --------------  -----  \n",
      " 0   year        4867 non-null   int64  \n",
      " 1   abstract    4867 non-null   object \n",
      " 2   Unnamed: 2  0 non-null      float64\n",
      " 3   Unnamed: 3  0 non-null      float64\n",
      "dtypes: float64(2), int64(1), object(1)\n",
      "memory usage: 152.2+ KB\n"
     ]
    }
   ],
   "source": [
    "df.info()"
   ]
  },
  {
   "cell_type": "code",
   "execution_count": 234,
   "id": "8aab484c",
   "metadata": {},
   "outputs": [
    {
     "data": {
      "text/plain": [
       "'BACKGROUND and PURPOSE: Teenagers with severe hemifacial microsomia can present with complex deformities of skin, adipose layer, mandible, and occlusion. Various individual techniques have been described to treat specific aspects of the deformity, including orthognathic surgery, distraction, bone grafting (vascularized/nonvascularized), and autologous fat transfer.1-3 Total correction of composite deficiencies, including creation of a proper skeletal foundation and soft tissue envelope, without relapse, is challenging in a single stage. We present our approach to teenagers with severe hemifacial microsomia incorporating orthognathic surgery, a rigid external distractor (RED) device, free osteoseptocutaneous fibular transfer, and fat grafting, to achieve stable skeletal and soft tissue correction.\\n      METHODS: 3 teenage patients with severe hemifacial microsomia (Pruzansky 3) were treated at Dell Children\\x19s Medical Center with a sequential multi-staged approach for both skeletal and soft tissue correction. Treatment protocol was as follows: Stage I: conventional orthognathic surgery, application of RED device and traction on the corrected mandible. Stage II: Mandible and facial soft tissue reconstruction with free fibula osteoseptocutaneous flap, removal RED device. Stage III: fibular skin paddle excision, autologous fat transfer, osseous genioplasty.\\n      RESULTS: All patients successfully underwent the multi-stage protocol. At conclusion of the protocol the patients maintained a class I occlusion without cant, a stable and symmetric mandibular opening, and more symmetric facial structure/profile (Figures 1 and 2). None of the patients showed signs of relapse at one year following correction.Figure 1: Figure 1.Figure 2: Figure 2.CONCLUSIONS: Teenagers with severe hemifacial microsomia present reconstructive challenges, possessing a composite soft tissue and bone defect. The bony deficiencies underlying a tight soft tissue envelope can be prone to relapse. Stage I of our protocol addresses the occlusal cant and jaw malposition with orthognathic surgery. The RED device with anchorage in the mandible stabilizes the orthognathic jaw position, and prevents relapse that may occur without a mandibular ramus. Stage II establishes mandibular continuity, and adds soft tissue with a free fibular flap, the RED device is removed without fear of relapse. Later stages allow soft tissue contouring, creation of normal chin position, and autologous fat transfer. Using this sequential multi-staged approach for the patient with a complex composite defect from hemifacial microsomia, allows for a stable and normalized skeletal anatomy with adequate overlying soft tissue.'"
      ]
     },
     "execution_count": 234,
     "metadata": {},
     "output_type": "execute_result"
    }
   ],
   "source": [
    "df['abstract'][0]"
   ]
  },
  {
   "cell_type": "code",
   "execution_count": 235,
   "id": "c63bfef4",
   "metadata": {},
   "outputs": [],
   "source": [
    "abs = []\n",
    "for i in df['abstract']:\n",
    "    abs.append(i)"
   ]
  },
  {
   "cell_type": "code",
   "execution_count": 236,
   "id": "2d2d0689",
   "metadata": {},
   "outputs": [
    {
     "name": "stdout",
     "output_type": "stream",
     "text": [
      "BACKGROUND and PURPOSE: Teenagers with severe hemifacial microsomia can present with complex deformities of skin, adipose layer, mandible, and occlusion. Various individual techniques have been described to treat specific aspects of the deformity, including orthognathic surgery, distraction, bone grafting (vascularized/nonvascularized), and autologous fat transfer.1-3 Total correction of composite deficiencies, including creation of a proper skeletal foundation and soft tissue envelope, without relapse, is challenging in a single stage. We present our approach to teenagers with severe hemifacial microsomia incorporating orthognathic surgery, a rigid external distractor (RED) device, free osteoseptocutaneous fibular transfer, and fat grafting, to achieve stable skeletal and soft tissue correction.\n",
      "      METHODS: 3 teenage patients with severe hemifacial microsomia (Pruzansky 3) were treated at Dell Children\u0019s Medical Center with a sequential multi-staged approach for both skeletal and s\n"
     ]
    }
   ],
   "source": [
    "# Collect all abstracts into a single text blob\n",
    "abs = df['abstract'].tolist()\n",
    "all_text = \" \".join(abs)\n",
    "\n",
    "# `all_text` now contains the full text of all abstracts\n",
    "print(all_text[:1000])  # Show a preview of the combined text\n"
   ]
  },
  {
   "cell_type": "code",
   "execution_count": null,
   "id": "a146d0a3",
   "metadata": {},
   "outputs": [],
   "source": [
    "\n",
    "\n",
    "abs_text_path = \"E:\\\\dataScience\\\\Fiver orders\\\\Order 3 Betopic modeling Plastic surgery\\\\all_abs.txt\"\n",
    "with open(abs_text_path, 'w', encoding='utf-8') as f:\n",
    "    f.write(all_text)\n"
   ]
  },
  {
   "cell_type": "markdown",
   "id": "75df7bdb",
   "metadata": {},
   "source": [
    "<div style=\"background-color:#121212; border-left: 5px solid #00bfbf; padding: 1.5em; font-family: 'Segoe UI', sans-serif; color: #e0e0e0; line-height:1.7;\">\n",
    "\n",
    "<h2 style=\"color:#00e6e6;\">🧹 Preprocessing Pipeline Before Topic Modeling</h2>\n",
    "\n",
    "<p>This project involves advanced cleaning and structuring of plastic surgery abstracts to ensure high-quality input for topic modeling using BERTopic. Each step below is critical to eliminate noise and enhance semantic clarity.</p>\n",
    "\n",
    "<hr style=\"border:none; border-top: 1px dashed #666;\">\n",
    "\n",
    "<h3 style=\"color:#ffffff;\">⚙️ Steps Applied:</h3>\n",
    "<ol>\n",
    "  <li><strong>🗃 Drop Empty Columns:</strong> Remove unused or null-filled columns (e.g., \"Unnamed: 2\").</li>\n",
    "  <li><strong>🔻 Lowercase Text:</strong> Normalize casing to reduce duplication (e.g., “Surgery” vs “surgery”).</li>\n",
    "  <li><strong>🧽 Remove Boilerplate Headers:</strong> Strip section headers such as <code>BACKGROUND:</code>, <code>METHODS:</code>, <code>CONCLUSION:</code>, etc.</li>\n",
    "  <li><strong>✂️ Remove Punctuation & Digits:</strong> Eliminate characters irrelevant to topic formation.</li>\n",
    "  <li><strong>🧠 Lemmatization:</strong> Convert words to their base form using <code>spaCy</code> (e.g., \"treated\" → \"treat\").</li>\n",
    "  <li><strong>🚫 Stopword Removal:</strong> Use both <code>ENGLISH_STOP_WORDS</code> and a domain-specific list to remove high-frequency medical filler terms (e.g., \"patient\", \"procedure\", \"outcome\").</li>\n",
    "  <li><strong>📏 Filter Short Texts:</strong> Discard abstracts with fewer than 30 meaningful tokens to avoid noise in topic modeling.</li>\n",
    "  <li><strong>🧬 Remove Duplicates:</strong> Drop identical or highly similar abstracts to avoid over-weighting.</li>\n",
    "</ol>\n",
    "\n",
    "<hr style=\"border:none; border-top: 1px dashed #666;\">\n",
    "\n",
    "<p style=\"font-size:0.95em;color:#aaa;\"><em>Note:</em> These steps ensure that BERTopic clusters are formed on meaningful linguistic signals rather than formatting or redundant content.</p>\n",
    "\n",
    "</div>\n"
   ]
  },
  {
   "cell_type": "code",
   "execution_count": 5,
   "id": "bec84e3a",
   "metadata": {},
   "outputs": [],
   "source": [
    "df = df.drop(columns=[col for col in df.columns if 'Unnamed' in col])"
   ]
  },
  {
   "cell_type": "code",
   "execution_count": 6,
   "id": "4c77f718",
   "metadata": {},
   "outputs": [],
   "source": [
    "def clean_boilerplate(text):\n",
    "    return re.sub(\n",
    "        r\"\\b(background|methods|results|conclusions|purpose|discussion|study design|figure|table|summary|introduction|objectives|design|references|study population|statistical analysis|data availability|acknowledgement|clinical question|study results|study objective)\\b[\\s:–\\-]*\",\n",
    "        \" \",\n",
    "        text,\n",
    "        flags=re.IGNORECASE\n",
    "    )"
   ]
  },
  {
   "cell_type": "code",
   "execution_count": 7,
   "id": "7a6ec45d",
   "metadata": {},
   "outputs": [],
   "source": [
    "def clean_text(text):\n",
    "    text = clean_boilerplate(text)\n",
    "    text = text.lower()\n",
    "    text = re.sub(r\"[^a-z\\s]\", \" \", text)\n",
    "    return re.sub(r\"\\s+\", \" \", text).strip()\n",
    "df['cleaned_abs']= df['abstract'].apply(clean_boilerplate)"
   ]
  },
  {
   "cell_type": "code",
   "execution_count": 8,
   "id": "05aba2e7",
   "metadata": {},
   "outputs": [],
   "source": [
    "from sklearn.feature_extraction.text import ENGLISH_STOP_WORDS\n",
    "\n",
    "custom_stopwords = ENGLISH_STOP_WORDS.union([\n",
    "    'purpose', 'methods', 'method', 'results', 'conclusion', 'patient', 'patients',\n",
    "    'study', 'studies', 'clinical', 'analysis', 'significant', 'outcomes',\n",
    "    'surgery', 'surgeon', 'surgeons', 'treatment', 'procedures', 'case', 'cases',\n",
    "    'including', 'performed', 'approach', 'report', 'data', 'number', 'using',\n",
    "    'compared', 'included', 'surgical', 'underwent', 'group', 'significantly',\n",
    "    'md', 'authors', 'references', 'and', 'of', 'to', 'the', 'in', 'for', 'on',\n",
    "    'with', 'as', 'by', 'at', 'from', 'a', 'an', 'is', 'was', 'are', 'be', 'this',\n",
    "    'that', 'it', 'we', 'they', 'their', 'or'\n",
    "])\n",
    "\n",
    "def tokenize_and_filter(text):\n",
    "    tokens = text.split()\n",
    "    tokens = [t for t in tokens if t not in custom_stopwords and len(t) > 2]\n",
    "    return \" \".join(tokens)\n",
    "\n",
    "df[\"cleaned_abs\"] = df[\"cleaned_abs\"].apply(tokenize_and_filter)"
   ]
  },
  {
   "cell_type": "code",
   "execution_count": 9,
   "id": "89c6f498",
   "metadata": {},
   "outputs": [
    {
     "data": {
      "text/plain": [
       "0    Teenagers severe hemifacial microsomia present...\n",
       "1    160,000 hip knee replacements year UK. After m...\n",
       "2    3,800 diagnosed sarcoma year 10% requiring spe...\n",
       "3    350,000 ventral hernia repairs (VHR) yearly US...\n",
       "4    challenge education offering adequate hands-on...\n",
       "Name: cleaned_abs, dtype: object"
      ]
     },
     "execution_count": 9,
     "metadata": {},
     "output_type": "execute_result"
    }
   ],
   "source": [
    "df['cleaned_abs'].head()"
   ]
  },
  {
   "cell_type": "code",
   "execution_count": 246,
   "id": "4b7ae9d7",
   "metadata": {},
   "outputs": [],
   "source": [
    "## Run following on colab due to some issues with nltk data path on local machine so instead of time \n",
    "# wasting to fix it, I will run this on colab\n",
    "\n",
    "# nltk.download('punkt')\n",
    "# nltk.download('averaged_perceptron_tagger_eng')  # 👈 required now\n",
    "# nltk.download('wordnet')\n",
    "\n",
    "# lemmatizer = WordNetLemmatizer()\n",
    "\n",
    "# def get_wordnet_pos(word):\n",
    "#     \"\"\"Map POS tag to first character used by WordNetLemmatizer\"\"\"\n",
    "#     tag = pos_tag([word])[0][1][0].upper()\n",
    "#     tag_dict = {\n",
    "#         \"J\": wordnet.ADJ,\n",
    "#         \"N\": wordnet.NOUN,\n",
    "#         \"V\": wordnet.VERB,\n",
    "#         \"R\": wordnet.ADV\n",
    "#     }\n",
    "#     return tag_dict.get(tag, wordnet.NOUN)\n",
    "\n",
    "# def lemmatize_text(text):\n",
    "#     if isinstance(text, str):\n",
    "#         tokens = word_tokenize(text)\n",
    "#         lemmatized_tokens = [lemmatizer.lemmatize(t, get_wordnet_pos(t)) for t in tokens]\n",
    "#         return \" \".join(lemmatized_tokens)\n",
    "#     return \"\"\n",
    "\n",
    "# df['lemmatized_abs'] = df['cleaned_abs'].apply(lemmatize_text)\n",
    "# df[['cleaned_abs', 'lemmatized_abs']].head()\n"
   ]
  },
  {
   "cell_type": "code",
   "execution_count": 7,
   "id": "4060caa2",
   "metadata": {},
   "outputs": [],
   "source": [
    "## lemaatized data\n",
    "df= pd.read_csv('E:\\dataScience\\Fiver orders\\Order 3 Betopic modeling Plastic surgery\\data\\data\\lemmatized_abstracts.csv')"
   ]
  },
  {
   "cell_type": "code",
   "execution_count": 8,
   "id": "e80ddcde",
   "metadata": {},
   "outputs": [],
   "source": [
    "df.drop(columns=['Unnamed: 0'], inplace=True)"
   ]
  },
  {
   "cell_type": "code",
   "execution_count": 9,
   "id": "ec14f53e",
   "metadata": {},
   "outputs": [
    {
     "name": "stdout",
     "output_type": "stream",
     "text": [
      "Teenagers severe hemifacial microsomia present complex deformity skin , adipose layer , mandible , occlusion . Various individual technique described treat specific aspect deformity , orthognathic surgery , distraction , bone graft ( vascularized/nonvascularized ) , autologous fat transfer.1-3 Total correction composite deficiency , creation proper skeletal foundation soft tissue envelope , relapse , challenge single stage . present teenager severe hemifacial microsomia incorporate orthognathic surgery , rigid external distractor ( RED ) device , free osteoseptocutaneous fibular transfer , fat graft , achieve stable skeletal soft tissue correction . teenage severe hemifacial microsomia ( Pruzansky treat Dell Children\u0019s Medical Center sequential multi-staged skeletal soft tissue correction . Treatment protocol follow : Stage conventional orthognathic surgery , application RED device traction correct mandible . Stage II : Mandible facial soft tissue reconstruction free fibula osteoseptoc\n"
     ]
    }
   ],
   "source": [
    "# Collect all abstracts into a single text blob\n",
    "abs = df['lemmatized_abs'].tolist()\n",
    "all_text = \" \".join(abs)\n",
    "\n",
    "# `all_text` now contains the full text of all abstracts\n",
    "print(all_text[:1000])  # Show a preview of the combined text\n",
    "\n",
    "abs_text_path = \"E:\\\\dataScience\\\\Fiver orders\\\\Order 3 Betopic modeling Plastic surgery\\\\lemmatized_abs.txt\"\n",
    "with open(abs_text_path, 'w', encoding='utf-8') as f:\n",
    "    f.write(all_text)\n"
   ]
  },
  {
   "cell_type": "code",
   "execution_count": 10,
   "id": "31a0dfd3",
   "metadata": {},
   "outputs": [],
   "source": [
    "df_cleaned = df.copy()\n",
    "\n",
    "# Step 1: Remove statistical noise like OR [x,y], %, p-values etc.\n",
    "def remove_statistical_noise(text):\n",
    "    text = re.sub(r\"\\b(OR|CI|AUC|ROC|p)\\b[\\s:=\\[\\]\\d.,%-]*\", \" \", text, flags=re.IGNORECASE)\n",
    "    text = re.sub(r\"\\d+(\\.\\d+)?%?\", \" \", text)  # remove numbers and percentages\n",
    "    text = re.sub(r\"\\[\\s*\\d+\\.?\\d*,?\\s*\\d*\\.?\\d*\\s*\\]\", \" \", text)  # remove [x, y]\n",
    "    return text\n",
    "\n",
    "df_cleaned[\"step1_stats_removed\"] = df_cleaned[\"lemmatized_abs\"].astype(str).apply(remove_statistical_noise)\n",
    "\n",
    "# Step 2: Remove named entities and boilerplate like degrees, affiliations, author roles\n",
    "def remove_named_entities(text):\n",
    "    return re.sub(r\"\\b(presenter|co-author|affiliation|university|hospital|institute|center|clinic|department|md|phd|mph)\\b\", \" \", text, flags=re.IGNORECASE)\n",
    "\n",
    "df_cleaned[\"step2_entities_removed\"] = df_cleaned[\"step1_stats_removed\"].apply(remove_named_entities)\n",
    "\n",
    "# Step 3: Remove non-ASCII characters and normalize hyphens/em-dashes\n",
    "def normalize_text(text):\n",
    "    text = text.encode(\"ascii\", \"ignore\").decode(\"ascii\")\n",
    "    text = re.sub(r\"[–—−]\", \"-\", text)  # normalize em-dashes etc.\n",
    "    return text\n",
    "\n",
    "df_cleaned[\"step3_normalized\"] = df_cleaned[\"step2_entities_removed\"].apply(normalize_text)\n",
    "\n",
    "# Step 4: Expand stopwords (merge built-in + domain-specific)\n",
    "from sklearn.feature_extraction import text\n",
    "\n",
    "custom_stopwords = text.ENGLISH_STOP_WORDS.union([\n",
    "    # Domain-specific\n",
    "    'purpose', 'methods', 'method', 'results', 'conclusion', 'patient', 'patients',\n",
    "    'study', 'studies', 'clinical', 'analysis', 'significant', 'outcomes',\n",
    "    'surgery', 'surgeon', 'surgeons', 'treatment', 'procedures', 'case', 'cases',\n",
    "    'including', 'performed', 'approach', 'report', 'data', 'number', 'using',\n",
    "    'compared', 'included', 'surgical', 'underwent', 'group', 'significantly',\n",
    "    'md', 'authors', 'references', 'augmentation', 'hospital', 'plastics', 'abstract',\n",
    "    # Generic filler\n",
    "    'and', 'of', 'to', 'the', 'in', 'for', 'on', 'with', 'as', 'by', 'at', 'from',\n",
    "    'a', 'an', 'is', 'was', 'are', 'be', 'this', 'that', 'it', 'we', 'they',\n",
    "    'their', 'or'\n",
    "])\n",
    "\n",
    "def remove_stopwords(text):\n",
    "    tokens = text.split()\n",
    "    return \" \".join([t for t in tokens if t.lower() not in custom_stopwords and len(t) > 2])\n",
    "\n",
    "df_cleaned[\"step4_stopwords_removed\"] = df_cleaned[\"step3_normalized\"].apply(remove_stopwords)\n",
    "\n",
    "# Final column for modeling\n",
    "df_cleaned[\"final_ready\"] = df_cleaned[\"step4_stopwords_removed\"]\n"
   ]
  },
  {
   "cell_type": "code",
   "execution_count": 11,
   "id": "a3a54a68",
   "metadata": {},
   "outputs": [],
   "source": [
    "df['final_ready'] = df_cleaned['final_ready']"
   ]
  },
  {
   "cell_type": "code",
   "execution_count": 268,
   "id": "8f1e0083",
   "metadata": {},
   "outputs": [
    {
     "data": {
      "text/html": [
       "<div>\n",
       "<style scoped>\n",
       "    .dataframe tbody tr th:only-of-type {\n",
       "        vertical-align: middle;\n",
       "    }\n",
       "\n",
       "    .dataframe tbody tr th {\n",
       "        vertical-align: top;\n",
       "    }\n",
       "\n",
       "    .dataframe thead th {\n",
       "        text-align: right;\n",
       "    }\n",
       "</style>\n",
       "<table border=\"1\" class=\"dataframe\">\n",
       "  <thead>\n",
       "    <tr style=\"text-align: right;\">\n",
       "      <th></th>\n",
       "      <th>year</th>\n",
       "      <th>abstract</th>\n",
       "      <th>Unnamed: 2</th>\n",
       "      <th>Unnamed: 3</th>\n",
       "    </tr>\n",
       "  </thead>\n",
       "  <tbody>\n",
       "    <tr>\n",
       "      <th>0</th>\n",
       "      <td>2014</td>\n",
       "      <td>BACKGROUND and PURPOSE: Teenagers with severe ...</td>\n",
       "      <td>NaN</td>\n",
       "      <td>NaN</td>\n",
       "    </tr>\n",
       "    <tr>\n",
       "      <th>1</th>\n",
       "      <td>2014</td>\n",
       "      <td>BACKGROUND: 160,000 hip and knee replacements ...</td>\n",
       "      <td>NaN</td>\n",
       "      <td>NaN</td>\n",
       "    </tr>\n",
       "    <tr>\n",
       "      <th>2</th>\n",
       "      <td>2014</td>\n",
       "      <td>BACKGROUND: 3,800 patients are diagnosed with ...</td>\n",
       "      <td>NaN</td>\n",
       "      <td>NaN</td>\n",
       "    </tr>\n",
       "    <tr>\n",
       "      <th>3</th>\n",
       "      <td>2014</td>\n",
       "      <td>BACKGROUND: 350,000 ventral hernia repairs (VH...</td>\n",
       "      <td>NaN</td>\n",
       "      <td>NaN</td>\n",
       "    </tr>\n",
       "    <tr>\n",
       "      <th>4</th>\n",
       "      <td>2014</td>\n",
       "      <td>BACKGROUND: A challenge to education is offeri...</td>\n",
       "      <td>NaN</td>\n",
       "      <td>NaN</td>\n",
       "    </tr>\n",
       "    <tr>\n",
       "      <th>...</th>\n",
       "      <td>...</td>\n",
       "      <td>...</td>\n",
       "      <td>...</td>\n",
       "      <td>...</td>\n",
       "    </tr>\n",
       "    <tr>\n",
       "      <th>4862</th>\n",
       "      <td>2023</td>\n",
       "      <td>The Potential of Amniotic Membrane Derived Pro...</td>\n",
       "      <td>NaN</td>\n",
       "      <td>NaN</td>\n",
       "    </tr>\n",
       "    <tr>\n",
       "      <th>4863</th>\n",
       "      <td>2023</td>\n",
       "      <td>Use of Ultrasound in the Diagnosis of Craniosy...</td>\n",
       "      <td>NaN</td>\n",
       "      <td>NaN</td>\n",
       "    </tr>\n",
       "    <tr>\n",
       "      <th>4864</th>\n",
       "      <td>2023</td>\n",
       "      <td>Utility of AI tools to Detect Pain Through Fac...</td>\n",
       "      <td>NaN</td>\n",
       "      <td>NaN</td>\n",
       "    </tr>\n",
       "    <tr>\n",
       "      <th>4865</th>\n",
       "      <td>2023</td>\n",
       "      <td>Ventral Hernia Repair in Complex Patients: The...</td>\n",
       "      <td>NaN</td>\n",
       "      <td>NaN</td>\n",
       "    </tr>\n",
       "    <tr>\n",
       "      <th>4866</th>\n",
       "      <td>2023</td>\n",
       "      <td>What Do Patients Look for When Scheduling Thei...</td>\n",
       "      <td>NaN</td>\n",
       "      <td>NaN</td>\n",
       "    </tr>\n",
       "  </tbody>\n",
       "</table>\n",
       "<p>4867 rows × 4 columns</p>\n",
       "</div>"
      ],
      "text/plain": [
       "      year                                           abstract  Unnamed: 2  \\\n",
       "0     2014  BACKGROUND and PURPOSE: Teenagers with severe ...         NaN   \n",
       "1     2014  BACKGROUND: 160,000 hip and knee replacements ...         NaN   \n",
       "2     2014  BACKGROUND: 3,800 patients are diagnosed with ...         NaN   \n",
       "3     2014  BACKGROUND: 350,000 ventral hernia repairs (VH...         NaN   \n",
       "4     2014  BACKGROUND: A challenge to education is offeri...         NaN   \n",
       "...    ...                                                ...         ...   \n",
       "4862  2023  The Potential of Amniotic Membrane Derived Pro...         NaN   \n",
       "4863  2023  Use of Ultrasound in the Diagnosis of Craniosy...         NaN   \n",
       "4864  2023  Utility of AI tools to Detect Pain Through Fac...         NaN   \n",
       "4865  2023  Ventral Hernia Repair in Complex Patients: The...         NaN   \n",
       "4866  2023  What Do Patients Look for When Scheduling Thei...         NaN   \n",
       "\n",
       "      Unnamed: 3  \n",
       "0            NaN  \n",
       "1            NaN  \n",
       "2            NaN  \n",
       "3            NaN  \n",
       "4            NaN  \n",
       "...          ...  \n",
       "4862         NaN  \n",
       "4863         NaN  \n",
       "4864         NaN  \n",
       "4865         NaN  \n",
       "4866         NaN  \n",
       "\n",
       "[4867 rows x 4 columns]"
      ]
     },
     "execution_count": 268,
     "metadata": {},
     "output_type": "execute_result"
    }
   ],
   "source": [
    "df"
   ]
  },
  {
   "cell_type": "code",
   "execution_count": 12,
   "id": "a29f6482",
   "metadata": {},
   "outputs": [],
   "source": [
    "\n",
    "# Additional filtering\n",
    "def final_clean(text):\n",
    "    # Remove duplicate words\n",
    "    text = re.sub(r'\\b(\\w+)( \\1\\b)+', r'\\1', text)\n",
    "    \n",
    "    # Remove short tokens\n",
    "    text = ' '.join([w for w in text.split() if len(w) > 2])\n",
    "    \n",
    "    # Remove known leftover noise\n",
    "    noise_words = {'msc', 'md', 'beta', 'aor', 'mnc', 'qq', 'mph'}\n",
    "    text = ' '.join([w for w in text.split() if w.lower() not in noise_words])\n",
    "    \n",
    "    return text.strip()\n",
    "\n",
    "# Apply to final_ready column\n",
    "df['final_ready'] = df['final_ready'].astype(str).apply(final_clean)"
   ]
  },
  {
   "cell_type": "code",
   "execution_count": 13,
   "id": "414f640c",
   "metadata": {},
   "outputs": [],
   "source": [
    "df.to_csv(r'E:\\dataScience\\Fiver orders\\Order 3 Betopic modeling Plastic surgery\\data\\data\\final.csv', index=False, encoding='utf-8-sig')"
   ]
  },
  {
   "cell_type": "code",
   "execution_count": 14,
   "id": "fe534631",
   "metadata": {},
   "outputs": [],
   "source": [
    "df = pd.read_csv(r'E:\\dataScience\\Fiver orders\\Order 3 Betopic modeling Plastic surgery\\data\\data\\final.csv', encoding='utf-8-sig')"
   ]
  },
  {
   "cell_type": "code",
   "execution_count": 15,
   "id": "15b42e60",
   "metadata": {},
   "outputs": [
    {
     "data": {
      "text/plain": [
       "'Delineating Effectiveness Perioperative Tranexamic Acid Reducing Bleeding Events Joseph Kuhn Tegan Clarke Aaron Segura Eric Ensign Samantha Huang Dominick Byrd Joshua Harrison Anil Shetty Panniculectomy commonly procedure restores abdominal cosmesis improves hygiene enhances health-related quality life experience massive medical weight loss obesity-related dysmorphic change pannus comorbidities subclinical nutritional deficiency contribute elevate complication profile Risk mitigation strategy include preservation lymphatics mattress progressive tension suture hemostatic agent tissue adhesive negative pressure wound therapy Tranexamic acid block conversion plasminogen plasmin gain recognition pharmacologic adjunct reduce hematoma bruising blood product transfusion post operative edema harness antifibrinolytic anti- inflammatory property hope discern effectiveness parenteral tranexamic acid reduce bleeding complication follow panniculectomy retrospective chart review consecutive panniculectomy single chart query demographic operative factor primary hematoma transfusion secondary post operative change hemoglobin concentration hematocrit Tranexamic acid load dose follow infusion deliver prior incision tranexamic acid historic cohort panniculectomy receive identify average month follow average age year Average BMI female gender nonsmoker smoker current smoker weight loss procedure infraumbilical skin excision fleur-de-lis pattern skin excision total receive tranexamic acid Overall hematoma rate low control respectively different use tranexamic acid plastic continue expand safety widely demonstrate effective prevent complication reduce morbidity panniculectomy Randomized trial need determine utility adjunct reduce clinically meaningful bleeding'"
      ]
     },
     "execution_count": 15,
     "metadata": {},
     "output_type": "execute_result"
    }
   ],
   "source": [
    "df['final_ready'][4000]"
   ]
  },
  {
   "cell_type": "code",
   "execution_count": null,
   "id": "e886951e",
   "metadata": {},
   "outputs": [],
   "source": []
  }
 ],
 "metadata": {
  "kernelspec": {
   "display_name": "Plaster_Surgery_topicModeling",
   "language": "python",
   "name": "python3"
  },
  "language_info": {
   "codemirror_mode": {
    "name": "ipython",
    "version": 3
   },
   "file_extension": ".py",
   "mimetype": "text/x-python",
   "name": "python",
   "nbconvert_exporter": "python",
   "pygments_lexer": "ipython3",
   "version": "3.11.9"
  }
 },
 "nbformat": 4,
 "nbformat_minor": 5
}
